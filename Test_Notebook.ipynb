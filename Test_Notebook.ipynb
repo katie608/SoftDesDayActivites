{
 "cells": [
  {
   "cell_type": "code",
   "execution_count": 7,
   "metadata": {},
   "outputs": [
    {
     "name": "stdout",
     "output_type": "stream",
     "text": [
      "Line(0,1,2,3)\n"
     ]
    }
   ],
   "source": [
    "class Line:\n",
    "    def __init__(self, x0, y0, x1, y1):\n",
    "        self.x0 = x0\n",
    "        self.y0 = y0\n",
    "        self.x1 = x1\n",
    "        self.y1 = y1\n",
    "    def __str__(self):\n",
    "        \"\"\"Python's `print` function calls this method. It should return a string.\n",
    "\n",
    "        Examples:\n",
    "        >>> line = Line(10, 20, 100, 200)\n",
    "        >>> print(line)\n",
    "        Line(10, 20, 100, 200)\n",
    "        \"\"\"\n",
    "        return 'Line(%.d,%.d,%.d,%.d)' % (self.x0, self.y0, self.x1, self.y1)\n",
    "    \n",
    "print(Line(0,1,2,3))"
   ]
  },
  {
   "cell_type": "code",
   "execution_count": 8,
   "metadata": {},
   "outputs": [],
   "source": [
    "l = Line(0,1,2,3)"
   ]
  },
  {
   "cell_type": "code",
   "execution_count": 9,
   "metadata": {},
   "outputs": [
    {
     "name": "stdout",
     "output_type": "stream",
     "text": [
      "Line(0,1,2,3)\n"
     ]
    }
   ],
   "source": [
    "print(l)"
   ]
  },
  {
   "cell_type": "code",
   "execution_count": 10,
   "metadata": {},
   "outputs": [
    {
     "data": {
      "text/plain": [
       "0"
      ]
     },
     "execution_count": 10,
     "metadata": {},
     "output_type": "execute_result"
    }
   ],
   "source": [
    "l.x0"
   ]
  },
  {
   "cell_type": "code",
   "execution_count": 12,
   "metadata": {},
   "outputs": [
    {
     "data": {
      "text/plain": [
       "9"
      ]
     },
     "execution_count": 12,
     "metadata": {},
     "output_type": "execute_result"
    }
   ],
   "source": [
    "import math\n",
    "\n",
    "10, 20, 10 + 30, 20 + 40\n",
    "\n",
    "# math.sqrt((x1-x0)**2+(y1-y0)**2)\n",
    "\n",
    "\n",
    "math.sqrt((40-10)**2+(60-20)**2)\n",
    "\n",
    "abs(-9)\n",
    "\n",
    "\n",
    "\n"
   ]
  },
  {
   "cell_type": "code",
   "execution_count": null,
   "metadata": {},
   "outputs": [],
   "source": []
  }
 ],
 "metadata": {
  "kernelspec": {
   "display_name": "Python 3",
   "language": "python",
   "name": "python3"
  },
  "language_info": {
   "codemirror_mode": {
    "name": "ipython",
    "version": 3
   },
   "file_extension": ".py",
   "mimetype": "text/x-python",
   "name": "python",
   "nbconvert_exporter": "python",
   "pygments_lexer": "ipython3",
   "version": "3.7.1"
  }
 },
 "nbformat": 4,
 "nbformat_minor": 2
}
